{
 "cells": [
  {
   "cell_type": "code",
   "execution_count": 2,
   "metadata": {},
   "outputs": [],
   "source": [
    "import pandas as pd"
   ]
  },
  {
   "cell_type": "code",
   "execution_count": 3,
   "metadata": {},
   "outputs": [],
   "source": [
    "general=pd.read_csv(\"C:\\\\Users\\\\matas\\\\Downloads\\\\esport\\\\GeneralEsportData.csv\")\n",
    "history=pd.read_csv(\"C:\\\\Users\\\\matas\\\\Downloads\\\\esport\\\\HistoricalEsportData.csv\")"
   ]
  },
  {
   "cell_type": "markdown",
   "metadata": {},
   "source": [
    "General dataset Cleaning\n"
   ]
  },
  {
   "cell_type": "code",
   "execution_count": 4,
   "metadata": {},
   "outputs": [
    {
     "data": {
      "text/html": [
       "<div>\n",
       "<style scoped>\n",
       "    .dataframe tbody tr th:only-of-type {\n",
       "        vertical-align: middle;\n",
       "    }\n",
       "\n",
       "    .dataframe tbody tr th {\n",
       "        vertical-align: top;\n",
       "    }\n",
       "\n",
       "    .dataframe thead th {\n",
       "        text-align: right;\n",
       "    }\n",
       "</style>\n",
       "<table border=\"1\" class=\"dataframe\">\n",
       "  <thead>\n",
       "    <tr style=\"text-align: right;\">\n",
       "      <th></th>\n",
       "      <th>Game</th>\n",
       "      <th>ReleaseDate</th>\n",
       "      <th>Genre</th>\n",
       "      <th>TotalEarnings</th>\n",
       "      <th>OfflineEarnings</th>\n",
       "      <th>PercentOffline</th>\n",
       "      <th>TotalPlayers</th>\n",
       "      <th>TotalTournaments</th>\n",
       "    </tr>\n",
       "  </thead>\n",
       "  <tbody>\n",
       "    <tr>\n",
       "      <th>0</th>\n",
       "      <td>Age of Empires</td>\n",
       "      <td>1997</td>\n",
       "      <td>Strategy</td>\n",
       "      <td>510716.46</td>\n",
       "      <td>375857.63</td>\n",
       "      <td>0.735942</td>\n",
       "      <td>473</td>\n",
       "      <td>265</td>\n",
       "    </tr>\n",
       "    <tr>\n",
       "      <th>1</th>\n",
       "      <td>Age of Empires II</td>\n",
       "      <td>1999</td>\n",
       "      <td>Strategy</td>\n",
       "      <td>3253232.59</td>\n",
       "      <td>1139384.57</td>\n",
       "      <td>0.350232</td>\n",
       "      <td>1994</td>\n",
       "      <td>1613</td>\n",
       "    </tr>\n",
       "    <tr>\n",
       "      <th>2</th>\n",
       "      <td>Age of Empires III</td>\n",
       "      <td>2005</td>\n",
       "      <td>Strategy</td>\n",
       "      <td>115843.65</td>\n",
       "      <td>41800.00</td>\n",
       "      <td>0.360831</td>\n",
       "      <td>166</td>\n",
       "      <td>163</td>\n",
       "    </tr>\n",
       "    <tr>\n",
       "      <th>3</th>\n",
       "      <td>Age of Empires IV</td>\n",
       "      <td>2021</td>\n",
       "      <td>Strategy</td>\n",
       "      <td>994675.03</td>\n",
       "      <td>409117.93</td>\n",
       "      <td>0.411308</td>\n",
       "      <td>542</td>\n",
       "      <td>327</td>\n",
       "    </tr>\n",
       "    <tr>\n",
       "      <th>4</th>\n",
       "      <td>Age of Empires Online</td>\n",
       "      <td>2011</td>\n",
       "      <td>Strategy</td>\n",
       "      <td>9806.56</td>\n",
       "      <td>775.00</td>\n",
       "      <td>0.079029</td>\n",
       "      <td>44</td>\n",
       "      <td>50</td>\n",
       "    </tr>\n",
       "  </tbody>\n",
       "</table>\n",
       "</div>"
      ],
      "text/plain": [
       "                    Game  ReleaseDate     Genre  TotalEarnings  \\\n",
       "0         Age of Empires         1997  Strategy      510716.46   \n",
       "1      Age of Empires II         1999  Strategy     3253232.59   \n",
       "2     Age of Empires III         2005  Strategy      115843.65   \n",
       "3      Age of Empires IV         2021  Strategy      994675.03   \n",
       "4  Age of Empires Online         2011  Strategy        9806.56   \n",
       "\n",
       "   OfflineEarnings  PercentOffline  TotalPlayers  TotalTournaments  \n",
       "0        375857.63        0.735942           473               265  \n",
       "1       1139384.57        0.350232          1994              1613  \n",
       "2         41800.00        0.360831           166               163  \n",
       "3        409117.93        0.411308           542               327  \n",
       "4           775.00        0.079029            44                50  "
      ]
     },
     "execution_count": 4,
     "metadata": {},
     "output_type": "execute_result"
    }
   ],
   "source": [
    "general.head()"
   ]
  },
  {
   "cell_type": "code",
   "execution_count": 5,
   "metadata": {},
   "outputs": [
    {
     "name": "stdout",
     "output_type": "stream",
     "text": [
      "<class 'pandas.core.frame.DataFrame'>\n",
      "RangeIndex: 650 entries, 0 to 649\n",
      "Data columns (total 8 columns):\n",
      " #   Column            Non-Null Count  Dtype  \n",
      "---  ------            --------------  -----  \n",
      " 0   Game              650 non-null    object \n",
      " 1   ReleaseDate       650 non-null    int64  \n",
      " 2   Genre             650 non-null    object \n",
      " 3   TotalEarnings     650 non-null    float64\n",
      " 4   OfflineEarnings   650 non-null    float64\n",
      " 5   PercentOffline    583 non-null    float64\n",
      " 6   TotalPlayers      650 non-null    int64  \n",
      " 7   TotalTournaments  650 non-null    int64  \n",
      "dtypes: float64(3), int64(3), object(2)\n",
      "memory usage: 40.8+ KB\n"
     ]
    }
   ],
   "source": [
    "general.info()"
   ]
  },
  {
   "cell_type": "code",
   "execution_count": 14,
   "metadata": {},
   "outputs": [],
   "source": [
    "null_rows = general[general['PercentOffline'].isna()]"
   ]
  },
  {
   "cell_type": "code",
   "execution_count": 15,
   "metadata": {},
   "outputs": [
    {
     "data": {
      "text/html": [
       "<div>\n",
       "<style scoped>\n",
       "    .dataframe tbody tr th:only-of-type {\n",
       "        vertical-align: middle;\n",
       "    }\n",
       "\n",
       "    .dataframe tbody tr th {\n",
       "        vertical-align: top;\n",
       "    }\n",
       "\n",
       "    .dataframe thead th {\n",
       "        text-align: right;\n",
       "    }\n",
       "</style>\n",
       "<table border=\"1\" class=\"dataframe\">\n",
       "  <thead>\n",
       "    <tr style=\"text-align: right;\">\n",
       "      <th></th>\n",
       "      <th>Game</th>\n",
       "      <th>ReleaseDate</th>\n",
       "      <th>Genre</th>\n",
       "      <th>TotalEarnings</th>\n",
       "      <th>OfflineEarnings</th>\n",
       "      <th>PercentOffline</th>\n",
       "      <th>TotalPlayers</th>\n",
       "      <th>TotalTournaments</th>\n",
       "    </tr>\n",
       "  </thead>\n",
       "  <tbody>\n",
       "    <tr>\n",
       "      <th>14</th>\n",
       "      <td>Clash Royale x Chess</td>\n",
       "      <td>2022</td>\n",
       "      <td>Strategy</td>\n",
       "      <td>0.0</td>\n",
       "      <td>0.0</td>\n",
       "      <td>NaN</td>\n",
       "      <td>0</td>\n",
       "      <td>0</td>\n",
       "    </tr>\n",
       "    <tr>\n",
       "      <th>22</th>\n",
       "      <td>Endgods</td>\n",
       "      <td>2015</td>\n",
       "      <td>Strategy</td>\n",
       "      <td>0.0</td>\n",
       "      <td>0.0</td>\n",
       "      <td>NaN</td>\n",
       "      <td>0</td>\n",
       "      <td>0</td>\n",
       "    </tr>\n",
       "    <tr>\n",
       "      <th>26</th>\n",
       "      <td>Heroes of Might and Magic III</td>\n",
       "      <td>1999</td>\n",
       "      <td>Strategy</td>\n",
       "      <td>0.0</td>\n",
       "      <td>0.0</td>\n",
       "      <td>NaN</td>\n",
       "      <td>0</td>\n",
       "      <td>0</td>\n",
       "    </tr>\n",
       "    <tr>\n",
       "      <th>29</th>\n",
       "      <td>Iron Harvest</td>\n",
       "      <td>2020</td>\n",
       "      <td>Strategy</td>\n",
       "      <td>0.0</td>\n",
       "      <td>0.0</td>\n",
       "      <td>NaN</td>\n",
       "      <td>0</td>\n",
       "      <td>0</td>\n",
       "    </tr>\n",
       "    <tr>\n",
       "      <th>30</th>\n",
       "      <td>Legion TD 2</td>\n",
       "      <td>2021</td>\n",
       "      <td>Strategy</td>\n",
       "      <td>0.0</td>\n",
       "      <td>0.0</td>\n",
       "      <td>NaN</td>\n",
       "      <td>0</td>\n",
       "      <td>0</td>\n",
       "    </tr>\n",
       "    <tr>\n",
       "      <th>...</th>\n",
       "      <td>...</td>\n",
       "      <td>...</td>\n",
       "      <td>...</td>\n",
       "      <td>...</td>\n",
       "      <td>...</td>\n",
       "      <td>...</td>\n",
       "      <td>...</td>\n",
       "      <td>...</td>\n",
       "    </tr>\n",
       "    <tr>\n",
       "      <th>624</th>\n",
       "      <td>Penguin Paradise</td>\n",
       "      <td>2022</td>\n",
       "      <td>Battle Royale</td>\n",
       "      <td>0.0</td>\n",
       "      <td>0.0</td>\n",
       "      <td>NaN</td>\n",
       "      <td>0</td>\n",
       "      <td>0</td>\n",
       "    </tr>\n",
       "    <tr>\n",
       "      <th>630</th>\n",
       "      <td>Rules Of Survival</td>\n",
       "      <td>2017</td>\n",
       "      <td>Battle Royale</td>\n",
       "      <td>0.0</td>\n",
       "      <td>0.0</td>\n",
       "      <td>NaN</td>\n",
       "      <td>0</td>\n",
       "      <td>0</td>\n",
       "    </tr>\n",
       "    <tr>\n",
       "      <th>639</th>\n",
       "      <td>Knockout City</td>\n",
       "      <td>2021</td>\n",
       "      <td>Third-Person Shooter</td>\n",
       "      <td>0.0</td>\n",
       "      <td>0.0</td>\n",
       "      <td>NaN</td>\n",
       "      <td>0</td>\n",
       "      <td>0</td>\n",
       "    </tr>\n",
       "    <tr>\n",
       "      <th>647</th>\n",
       "      <td>Guitar Hero: World Tour</td>\n",
       "      <td>2008</td>\n",
       "      <td>Music / Rhythm Game</td>\n",
       "      <td>0.0</td>\n",
       "      <td>0.0</td>\n",
       "      <td>NaN</td>\n",
       "      <td>0</td>\n",
       "      <td>0</td>\n",
       "    </tr>\n",
       "    <tr>\n",
       "      <th>648</th>\n",
       "      <td>Just Dance 2014</td>\n",
       "      <td>2013</td>\n",
       "      <td>Music / Rhythm Game</td>\n",
       "      <td>0.0</td>\n",
       "      <td>0.0</td>\n",
       "      <td>NaN</td>\n",
       "      <td>3</td>\n",
       "      <td>1</td>\n",
       "    </tr>\n",
       "  </tbody>\n",
       "</table>\n",
       "<p>67 rows × 8 columns</p>\n",
       "</div>"
      ],
      "text/plain": [
       "                              Game  ReleaseDate                 Genre  \\\n",
       "14            Clash Royale x Chess         2022              Strategy   \n",
       "22                         Endgods         2015              Strategy   \n",
       "26   Heroes of Might and Magic III         1999              Strategy   \n",
       "29                    Iron Harvest         2020              Strategy   \n",
       "30                     Legion TD 2         2021              Strategy   \n",
       "..                             ...          ...                   ...   \n",
       "624               Penguin Paradise         2022         Battle Royale   \n",
       "630              Rules Of Survival         2017         Battle Royale   \n",
       "639                  Knockout City         2021  Third-Person Shooter   \n",
       "647        Guitar Hero: World Tour         2008   Music / Rhythm Game   \n",
       "648                Just Dance 2014         2013   Music / Rhythm Game   \n",
       "\n",
       "     TotalEarnings  OfflineEarnings  PercentOffline  TotalPlayers  \\\n",
       "14             0.0              0.0             NaN             0   \n",
       "22             0.0              0.0             NaN             0   \n",
       "26             0.0              0.0             NaN             0   \n",
       "29             0.0              0.0             NaN             0   \n",
       "30             0.0              0.0             NaN             0   \n",
       "..             ...              ...             ...           ...   \n",
       "624            0.0              0.0             NaN             0   \n",
       "630            0.0              0.0             NaN             0   \n",
       "639            0.0              0.0             NaN             0   \n",
       "647            0.0              0.0             NaN             0   \n",
       "648            0.0              0.0             NaN             3   \n",
       "\n",
       "     TotalTournaments  \n",
       "14                  0  \n",
       "22                  0  \n",
       "26                  0  \n",
       "29                  0  \n",
       "30                  0  \n",
       "..                ...  \n",
       "624                 0  \n",
       "630                 0  \n",
       "639                 0  \n",
       "647                 0  \n",
       "648                 1  \n",
       "\n",
       "[67 rows x 8 columns]"
      ]
     },
     "execution_count": 15,
     "metadata": {},
     "output_type": "execute_result"
    }
   ],
   "source": [
    "null_rows"
   ]
  },
  {
   "cell_type": "code",
   "execution_count": 16,
   "metadata": {},
   "outputs": [],
   "source": [
    "general.loc[general['OfflineEarnings']==0,'PercentOffline']= 0"
   ]
  },
  {
   "cell_type": "code",
   "execution_count": 17,
   "metadata": {},
   "outputs": [
    {
     "name": "stdout",
     "output_type": "stream",
     "text": [
      "<class 'pandas.core.frame.DataFrame'>\n",
      "RangeIndex: 650 entries, 0 to 649\n",
      "Data columns (total 8 columns):\n",
      " #   Column            Non-Null Count  Dtype  \n",
      "---  ------            --------------  -----  \n",
      " 0   Game              650 non-null    object \n",
      " 1   ReleaseDate       650 non-null    int64  \n",
      " 2   Genre             650 non-null    object \n",
      " 3   TotalEarnings     650 non-null    float64\n",
      " 4   OfflineEarnings   650 non-null    float64\n",
      " 5   PercentOffline    650 non-null    float64\n",
      " 6   TotalPlayers      650 non-null    int64  \n",
      " 7   TotalTournaments  650 non-null    int64  \n",
      "dtypes: float64(3), int64(3), object(2)\n",
      "memory usage: 40.8+ KB\n"
     ]
    }
   ],
   "source": [
    "general.info()"
   ]
  },
  {
   "cell_type": "markdown",
   "metadata": {},
   "source": [
    "History Dataset Cleaning\n"
   ]
  },
  {
   "cell_type": "code",
   "execution_count": 19,
   "metadata": {},
   "outputs": [
    {
     "data": {
      "text/html": [
       "<div>\n",
       "<style scoped>\n",
       "    .dataframe tbody tr th:only-of-type {\n",
       "        vertical-align: middle;\n",
       "    }\n",
       "\n",
       "    .dataframe tbody tr th {\n",
       "        vertical-align: top;\n",
       "    }\n",
       "\n",
       "    .dataframe thead th {\n",
       "        text-align: right;\n",
       "    }\n",
       "</style>\n",
       "<table border=\"1\" class=\"dataframe\">\n",
       "  <thead>\n",
       "    <tr style=\"text-align: right;\">\n",
       "      <th></th>\n",
       "      <th>Date</th>\n",
       "      <th>Game</th>\n",
       "      <th>Earnings</th>\n",
       "      <th>Players</th>\n",
       "      <th>Tournaments</th>\n",
       "    </tr>\n",
       "  </thead>\n",
       "  <tbody>\n",
       "    <tr>\n",
       "      <th>0</th>\n",
       "      <td>1998-01-01</td>\n",
       "      <td>Command &amp; Conquer: Red Alert</td>\n",
       "      <td>15000.0</td>\n",
       "      <td>8</td>\n",
       "      <td>1</td>\n",
       "    </tr>\n",
       "    <tr>\n",
       "      <th>1</th>\n",
       "      <td>1998-01-01</td>\n",
       "      <td>QuakeWorld</td>\n",
       "      <td>15000.0</td>\n",
       "      <td>8</td>\n",
       "      <td>1</td>\n",
       "    </tr>\n",
       "    <tr>\n",
       "      <th>2</th>\n",
       "      <td>1998-05-01</td>\n",
       "      <td>Quake II</td>\n",
       "      <td>15000.0</td>\n",
       "      <td>4</td>\n",
       "      <td>1</td>\n",
       "    </tr>\n",
       "    <tr>\n",
       "      <th>3</th>\n",
       "      <td>1998-05-01</td>\n",
       "      <td>Total Annihilation</td>\n",
       "      <td>15000.0</td>\n",
       "      <td>2</td>\n",
       "      <td>1</td>\n",
       "    </tr>\n",
       "    <tr>\n",
       "      <th>4</th>\n",
       "      <td>1998-05-01</td>\n",
       "      <td>QuakeWorld</td>\n",
       "      <td>300.0</td>\n",
       "      <td>3</td>\n",
       "      <td>1</td>\n",
       "    </tr>\n",
       "  </tbody>\n",
       "</table>\n",
       "</div>"
      ],
      "text/plain": [
       "         Date                          Game  Earnings  Players  Tournaments\n",
       "0  1998-01-01  Command & Conquer: Red Alert   15000.0        8            1\n",
       "1  1998-01-01                    QuakeWorld   15000.0        8            1\n",
       "2  1998-05-01                      Quake II   15000.0        4            1\n",
       "3  1998-05-01            Total Annihilation   15000.0        2            1\n",
       "4  1998-05-01                    QuakeWorld     300.0        3            1"
      ]
     },
     "execution_count": 19,
     "metadata": {},
     "output_type": "execute_result"
    }
   ],
   "source": [
    "history.head()"
   ]
  },
  {
   "cell_type": "code",
   "execution_count": 20,
   "metadata": {},
   "outputs": [
    {
     "name": "stdout",
     "output_type": "stream",
     "text": [
      "<class 'pandas.core.frame.DataFrame'>\n",
      "RangeIndex: 9244 entries, 0 to 9243\n",
      "Data columns (total 5 columns):\n",
      " #   Column       Non-Null Count  Dtype  \n",
      "---  ------       --------------  -----  \n",
      " 0   Date         9244 non-null   object \n",
      " 1   Game         9244 non-null   object \n",
      " 2   Earnings     9244 non-null   float64\n",
      " 3   Players      9244 non-null   int64  \n",
      " 4   Tournaments  9244 non-null   int64  \n",
      "dtypes: float64(1), int64(2), object(2)\n",
      "memory usage: 361.2+ KB\n"
     ]
    }
   ],
   "source": [
    "history.info()"
   ]
  },
  {
   "cell_type": "code",
   "execution_count": 21,
   "metadata": {},
   "outputs": [
    {
     "data": {
      "text/plain": [
       "'Game,ReleaseDate,Genre,TotalEarnings,OfflineEarnings,PercentOffline,TotalPlayers,TotalTournaments\\r\\nAge of Empires,1997,Strategy,510716.46,375857.63,0.735941876633465,473,265\\r\\nAge of Empires II,1999,Strategy,3253232.59,1139384.57,0.350231512343235,1994,1613\\r\\nAge of Empires III,2005,Strategy,115843.65,41800.0,0.360831172015039,166,163\\r\\nAge of Empires IV,2021,Strategy,994675.03,409117.93,0.411308133471492,542,327\\r\\nAge of Empires Online,2011,Strategy,9806.56,775.0,0.0790287317877013,44,50\\r\\nAge of Mythology,2002,Strategy,155403.52,73511.79,0.473038126806909,217,257\\r\\nAmong Us,2018,Strategy,86000.0,0.0,0.0,14,8\\r\\nAuto Chess,2019,Strategy,1163720.28,1038222.28,0.892157933348038,133,52\\r\\nBrawl Stars,2018,Strategy,7145011.8,3098208.14,0.433618337761178,693,196\\r\\nChess.com,2007,Strategy,6590063.33,655000.0,0.0993920645676102,1036,603\\r\\nchess24,2014,Strategy,4318475.43,0.0,0.0,90,29\\r\\nchessarena.com,2021,Strategy,263363.64,54000.0,0.205039693406425,134,22\\r\\nClash of Clans,2012,Strategy,4471027.87,2827101.87,0.632315868341926,367,65\\r\\nClash Royale,2016,Strategy,7771166.25,3427579.12,0.441063671749398,535,117\\r\\nClash Royale x Chess,2022,Strategy,0.0,0.0,0.0,0,0\\r\\nCommand & Conquer 3,2007,Strategy,53086.67,53086.67,1.0,9,8\\r\\nCommand & Conquer: Red Alert,1996,Strategy,15000.0,15000.0,1.0,8,1\\r\\nCompany of Heroes 2,2013,Strategy,8561.22,7956.22,0.929332501676163,11,6\\r\\nComPet,2016,Strategy,2000.0,0.0,0.0,50,1\\r\\nDead By Daylight,2016,Strategy,60000.0,0.0,0.0,35,9\\r\\nDead by Daylight Mobile,2020,Strategy,10000.0,0.0,0.0,0,1\\r\\nDota Underlords,2019,Strategy,26024.18,0.0,0.0,62,36\\r\\nEndgods,2015,Strategy,0.0,0.0,0.0,0,0\\r\\nFarming Simulator 19,2018,Strategy,673267.88,212289.81,0.315312546916689,140,31\\r\\nFarming Simulator 22,2021,Strategy,48654.04,32604.02,0.670119480314482,35,3\\r\\nGrey Goo,2015,Strategy,36400.0,30400.0,0.835164835164835,18,5\\r\\nHeroes of Might and Magic III,1999,Strategy,0.0,0.0,0.0,0,0\\r\\nIdentity V,2018,Strategy,1774630.31,1311194.98,0.738855283047656,73,5\\r\\nInternet Chess Club,1995,Strategy,10000.0,0.0,0.0,6,1\\r\\nIron Harvest,2020,Strategy,0.0,0.0,0.0,0,0\\r\\nLegion TD 2,2021,Strategy,0.0,0.0,0.0,0,0\\r\\nLichess,2010,Strategy,1300329.91,0.0,0.0,346,177\\r\\nLoco Dojo Unleashed,2021,Strategy,1000.0,1000.0,1.0,4,1\\r\\nMen of War: Assault Squad 2,2014,Strategy,0.0,0.0,0.0,0,0\\r\\nMultigaming,2000,Strategy,574135.5,516816.46,0.900164612709021,49,10\\r\\nPlaychess.com,2002,Strategy,32866.58,0.0,0.0,116,9\\r\\nPokémon GO,2016,Strategy,245490.0,239600.0,0.9760071693348,205,43\\r\\nPokémon VGC,2012,Strategy,627852.0,608000.0,0.968381083440046,303,46\\r\\nProphecy,2020,Strategy,13000.0,0.0,0.0,27,4\\r\\nRise of Nations: Rise of Legends,2006,Strategy,69600.0,69600.0,1.0,8,1\\r\\nSea of Thieves,2016,Strategy,100000.0,0.0,0.0,67,4\\r\\nStar Wars: Squadrons,2020,Strategy,800.0,0.0,0.0,4,1\\r\\nStarCraft II,2010,Strategy,40148652.88,31811176.7,0.792334846080146,2213,7245\\r\\nStarCraft: Brood War,1998,Strategy,7548789.3,7292449.58,0.966042273825288,658,536\\r\\nStarCraft: Remastered,2017,Strategy,3048486.06,1707311.68,0.560052316591535,376,470\\r\\nSummoners War: Sky Arena,2014,Strategy,652000.0,372000.0,0.570552147239264,32,6\\r\\nSuper Mario Party,2018,Strategy,220.0,220.0,1.0,4,1\\r\\nSupreme Commander,2007,Strategy,4901.26,4901.26,1.0,0,1\\r\\nSupreme Commander: Forged Alliance,2007,Strategy,1290.01,1290.01,1.0,0,1\\r\\nTeamfight Tactics,2019,Strategy,4428864.86,1046585.26,0.236310046272218,558,59\\r\\nTemtem,2022,Strategy,24500.0,0.0,0.0,31,6\\r\\nTEPPEN,2019,Strategy,626226.6,456721.47,0.729323011829903,53,24\\r\\nThe Binding of Isaac,2011,Strategy,15000.0,0.0,0.0,16,1\\r\\nTotal Annihilation,1997,Strategy,15000.0,15000.0,1.0,2,1\\r\\nUNO,2016,Strategy,30000.0,0.0,0.0,28,3\\r\\nWarCraft III,2002,Strategy,6273482.33,5338733.42,0.850999993172851,752,1533\\r\\nWarCraft III: Reforged,2020,Strategy,1779057.53,489666.84,0.275239463447818,149,482\\r\\n\"Warhammer 40,000: Dawn of War\",2005,Strategy,79816.5,79816.5,1.0,7,3\\r\\n\"Warhammer 40,000: Dawn of War II\",2009,Strategy,0.0,0.0,0.0,0,0\\r\\nWarparty,2019,Strategy,1175.0,0.0,0.0,6,2\\r\\nWindjammers,1994,Strategy,5651.47,5162.16,0.913418986564557,36,16\\r\\nWorld in Conflict,2007,Strategy,293338.23,293338.23,1.0,38,11\\r\\nWorld of Tanks,2010,Strategy,3988496.59,3915031.72,0.981580811631081,418,54\\r\\nWorld of Tanks Blitz,2016,Strategy,63330.0,60000.0,0.947418285172904,14,6\\r\\nAfter-H,2019,First-Person Shooter,44880.4,44880.4,1.0,93,13\\r\\nAim Gods,2020,First-Person Shooter,250000.0,0.0,0.0,2,1\\r\\nAliens versus Predator 2,2001,First-Person Shooter,43500.0,43500.0,1.0,2,2\\r\\nAlliance of Valiant Arms,2009,First-Person Shooter,0.0,0.0,0.0,0,0\\r\\nArchangel Hellfire,2017,First-Person Shooter,5500.0,2000.0,0.363636363636364,14,9\\r\\nArctic Combat,2012,First-Person Shooter,0.0,0.0,0.0,0,0\\r\\nBattalion 1944,2018,First-Person Shooter,206654.67,129863.88,0.628410091095449,135,29\\r\\nBattlefield 1,2016,First-Person Shooter,0.0,0.0,0.0,0,0\\r\\nBattlefield 2,2005,First-Person Shooter,94715.22,94715.22,1.0,0,13\\r\\nBattlefield 2142,2006,First-Person Shooter,18546.14,18546.14,1.0,0,4\\r\\nBattlefield 3,2011,First-Person Shooter,25407.46,25407.46,1.0,5,7\\r\\nBattlefield 4,2013,First-Person Shooter,245766.46,212540.31,0.864806003227617,204,145\\r\\nBattlefield Hardline,2015,First-Person Shooter,13463.28,13463.28,1.0,20,1\\r\\nBattlefield V,2018,First-Person Shooter,0.0,0.0,0.0,0,0\\r\\nBeat Aim,2019,First-Person Shooter,430.0,0.0,0.0,12,6\\r\\nBig Buck Hunter Arcade,2016,First-Person Shooter,76200.0,76200.0,1.0,3,1\\r\\nBlack Squad,2017,First-Person Shooter,8480.72,0.0,0.0,57,17\\r\\nBlaston,2020,First-Person Shooter,19623.06,1780.0,0.0907096039047936,27,22\\r\\nBorderlands 3,2019,First-Person Shooter,50000.0,0.0,0.0,16,1\\r\\nCall of Duty,2003,First-Person Shooter,54799.77,54799.77,1.0,66,4\\r\\nCall of Duty 2,2005,First-Person Shooter,75090.24,69136.44,0.920711400043468,53,17\\r\\nCall of Duty 4: Modern Warfare,2007,First-Person Shooter,425409.27,393007.11,0.923832971481792,431,87\\r\\nCall of Duty: Advanced Warfare,2014,First-Person Shooter,2611808.93,2267636.14,0.868224361266733,783,405\\r\\nCall of Duty: Black Ops,2010,First-Person Shooter,375793.48,346969.18,0.92329749840258,118,23\\r\\nCall of Duty: Black Ops 2,2012,First-Person Shooter,1479139.25,1430071.63,0.966826909636804,187,54\\r\\nCall of Duty: Black Ops 4,2018,First-Person Shooter,6734938.95,6631161.95,0.984591248596247,389,82\\r\\nCall of Duty: Black Ops Cold War,2020,First-Person Shooter,6299000.0,3500000.0,0.555643752976663,274,89\\r\\nCall of Duty: Black Ops III,2015,First-Person Shooter,3939783.29,3783077.02,0.960224647280028,424,78\\r\\nCall of Duty: Blackout,2018,First-Person Shooter,611608.35,321008.35,0.524859331956472,175,18\\r\\nCall of Duty: Ghosts,2013,First-Person Shooter,1594185.25,1504472.89,0.943725260285779,199,76\\r\\nCall of Duty: Infinite Warfare,2016,First-Person Shooter,4166705.06,4049855.06,0.971956258406253,343,84\\r\\nCall of Duty: Mobile,2019,First-Person Shooter,6240636.0,3965636.0,0.635453822334775,325,21\\r\\nCall of Duty: Modern Warfare,2019,First-Person Shooter,7500784.5,678562.5,0.0904655373047979,396,81\\r\\nCall of Duty: Modern Warfare 2,2009,First-Person Shooter,117360.64,51010.64,0.434648618139778,65,20\\r\\nCall of Duty: Modern Warfare 3,2011,First-Person Shooter,1160815.66,1144955.66,0.986337193280111,209,45\\r\\nCall of Duty: Modern Warfare II,2022,First-Person Shooter,5009000.0,4880000.0,0.974246356558195,82,19\\r\\nCall of Duty: Vanguard,2021,First-Person Shooter,6321000.0,5080000.0,0.803670305331435,261,91\\r\\nCall of Duty: Warzone,2020,First-Person Shooter,10869721.17,136000.0,0.0125118204849039,1223,377\\r\\nCall of Duty: Warzone 2.0,2022,First-Person Shooter,141088.78,0.0,0.0,72,16\\r\\nCall of Duty: WWII,2017,First-Person Shooter,4578021.0,4498605.0,0.982652766337245,296,77\\r\\nChex Quest,1996,First-Person Shooter,100.0,0.0,0.0,2,1\\r\\nContractors,2018,First-Person Shooter,1000.0,0.0,0.0,20,1\\r\\nCounter-Strike,2000,First-Person Shooter,13596060.66,12882830.92,0.947541441757586,4264,1023\\r\\nCounter-Strike 2,2023,First-Person Shooter,79728.67,14209.46,0.178222714614454,251,22\\r\\nCounter-Strike Online,2016,First-Person Shooter,406989.6,406989.6,1.0,70,12\\r\\nCounter-Strike: Condition Zero,2004,First-Person Shooter,162150.6,162150.6,1.0,111,3\\r\\nCounter-Strike: Global Offensive,2012,First-Person Shooter,161615824.69,105053084.68,0.650017316568507,16272,6886\\r\\nCounter-Strike: Source,2004,First-Person Shooter,3113222.29,2872766.03,0.922762900428803,1502,331\\r\\nCritical Ops,2015,First-Person Shooter,74106.41,40000.0,0.539764373959014,73,4\\r\\nCrossFire,2007,First-Person Shooter,17865475.8,16405409.11,0.918274402185247,967,358\\r\\nCrossFire HD,2022,First-Person Shooter,571335.0,571335.0,1.0,95,3\\r\\nCrossFire Mobile,2015,First-Person Shooter,3806431.5,3617409.5,0.950341415575192,279,17\\r\\nCrysis,2007,First-Person Shooter,11340.95,11340.95,1.0,0,2\\r\\nDay of Defeat,2003,First-Person Shooter,51180.41,51180.41,1.0,43,4\\r\\nDay of Defeat: Source,2005,First-Person Shooter,14068.57,10286.47,0.731166707064044,50,8\\r\\nDescent 3,1999,First-Person Shooter,50000.0,50000.0,1.0,1,1\\r\\nDiabotical,2020,First-Person Shooter,265072.09,25842.43,0.0974920822482669,399,388\\r\\nDoom (2016),2016,First-Person Shooter,7000.0,7000.0,1.0,6,1\\r\\nDoom 3,2004,First-Person Shooter,257748.16,257748.16,1.0,14,4\\r\\nDoom II: Hell on Earth,1994,First-Person Shooter,5108.56,2200.0,0.430649732997166,14,8\\r\\nDOOMBRINGER,2017,First-Person Shooter,567.77,0.0,0.0,8,4\\r\\nEcho Combat,2018,First-Person Shooter,46800.0,46800.0,1.0,16,1\\r\\nEnemy Territory: Quake Wars,2007,First-Person Shooter,60923.12,60923.12,1.0,27,4\\r\\nEscape from Tarkov,2020,First-Person Shooter,114600.0,0.0,0.0,150,4\\r\\nEV.IO,2021,First-Person Shooter,0.0,0.0,0.0,0,0\\r\\nEvolve,2015,First-Person Shooter,131509.05,126054.1,0.958520345177765,110,33\\r\\nF.E.A.R.,2005,First-Person Shooter,178000.0,178000.0,1.0,20,5\\r\\nGhost Recon Advanced Warfighter,2006,First-Person Shooter,24000.0,24000.0,1.0,0,2\\r\\nGundam Versus,2017,First-Person Shooter,280.0,280.0,1.0,6,1\\r\\nGuns of Boom,2017,First-Person Shooter,198750.0,190000.0,0.955974842767296,8,21\\r\\nHalo 2,2004,First-Person Shooter,1626762.47,1489362.47,0.915537761330331,126,74\\r\\nHalo 2 Anniversary,2014,First-Person Shooter,468705.05,468705.05,1.0,97,20\\r\\nHalo 3,2007,First-Person Shooter,2318079.4,2161479.4,0.932444074176234,214,43\\r\\nHalo 4,2012,First-Person Shooter,430748.76,428498.76,0.994776537487885,66,19\\r\\nHalo 5: Guardians,2015,First-Person Shooter,7161730.97,6783930.97,0.947247390109657,248,109\\r\\nHalo Infinite,2021,First-Person Shooter,3985655.0,3510800.0,0.880858980518886,237,47\\r\\nHalo: Combat Evolved,2001,First-Person Shooter,299281.0,299281.0,1.0,118,39\\r\\nHalo: Reach,2010,First-Person Shooter,772089.97,712089.97,0.922288849316356,121,29\\r\\nIronsight,2018,First-Person Shooter,0.0,0.0,0.0,0,0\\r\\nIslands of Nyne,2017,First-Person Shooter,0.0,0.0,0.0,0,0\\r\\nLemnis Gate,2021,First-Person Shooter,1564.7,0.0,0.0,6,5\\r\\nMechWarrior Online,2013,First-Person Shooter,143490.0,143490.0,1.0,0,1\\r\\nMetal Gear Online,2008,First-Person Shooter,8000.0,0.0,0.0,37,8\\r\\nOnward,2016,First-Person Shooter,161820.0,123000.0,0.760103819058213,92,8\\r\\nOverwatch,2016,First-Person Shooter,34616725.38,18840032.08,0.544246513013184,4047,835\\r\\nOverwatch 2,2022,First-Person Shooter,9395501.12,6229548.12,0.663035216582466,943,88\\r\\nPainkiller,2004,First-Person Shooter,1015000.0,1015000.0,1.0,48,13\\r\\nPaladins,2015,First-Person Shooter,2490507.6,1789000.0,0.718327460634932,572,79\\r\\nPavlov,2017,First-Person Shooter,1260.0,0.0,0.0,19,3\\r\\nPistol Whip,2019,First-Person Shooter,7500.0,0.0,0.0,13,1\\r\\nPoint Blank,2008,First-Person Shooter,1903561.1,1725721.63,0.906575381268298,583,112\\r\\nQuake 4,2005,First-Person Shooter,564455.57,562204.81,0.996012511666773,107,54\\r\\nQuake Champions,2017,First-Person Shooter,3506250.52,2551846.63,0.727799287427984,315,283\\r\\nQuake II,1997,First-Person Shooter,130725.98,130100.0,0.995211510366952,37,12\\r\\nQuake III Arena,1999,First-Person Shooter,1197552.96,1179740.93,0.985126311240548,308,114\\r\\nQuake Live,2010,First-Person Shooter,684854.12,599972.93,0.876059459202786,225,411\\r\\nQuakeWorld,1996,First-Person Shooter,105351.67,99505.44,0.944507476720587,59,17\\r\\nRage,2011,First-Person Shooter,5000.0,5000.0,1.0,3,1\\r\\nRainbow Six Extraction,2022,First-Person Shooter,0.0,0.0,0.0,0,0\\r\\nRainbow Six Siege,2015,First-Person Shooter,39493024.47,30266962.32,0.766387551376108,2933,543\\r\\nRainbow Six: Vegas,2006,First-Person Shooter,176400.77,176400.77,1.0,106,7\\r\\nRainbow Six: Vegas 2,2008,First-Person Shooter,79000.0,79000.0,1.0,0,8\\r\\nRealm Royale,2018,First-Person Shooter,263000.0,0.0,0.0,47,9\\r\\nReflex,2015,First-Person Shooter,2458.37,163.66,0.0665725663752812,24,9\\r\\nResistance 2,2008,First-Person Shooter,50400.0,0.0,0.0,194,1\\r\\nReturn to Castle Wolfenstein,2001,First-Person Shooter,113424.3,113424.3,1.0,50,3\\r\\nRust,2013,First-Person Shooter,0.0,0.0,0.0,0,0\\r\\nS.K.I.L.L. - Special Force 2,2013,First-Person Shooter,147532.93,131555.81,0.891704719753075,97,22\\r\\nS.T.A.L.K.E.R.: Shadow of Chernobyl,2007,First-Person Shooter,4901.26,4901.26,1.0,0,1\\r\\nShadowrun,2007,First-Person Shooter,24000.0,24000.0,1.0,0,3\\r\\nShootMania Storm,2013,First-Person Shooter,262090.69,258286.5,0.985485215060482,108,43\\r\\nSnapshot VR,2020,First-Person Shooter,1000.0,0.0,0.0,15,2\\r\\nSpace Junkies,2019,First-Person Shooter,30420.0,24600.0,0.808678500986193,33,4\\r\\nSpecial Force,2004,First-Person Shooter,130250.0,130250.0,1.0,0,3\\r\\nSplatoon,2015,First-Person Shooter,1390.0,0.0,0.0,3,4\\r\\nSplatoon 2,2017,First-Person Shooter,8930.0,8630.0,0.966405375139978,13,6\\r\\nStar Wars Jedi Knight II: Jedi Outcast,2002,First-Person Shooter,7679.25,7679.25,1.0,0,1\\r\\nSudden Attack,2005,First-Person Shooter,0.0,0.0,0.0,0,0\\r\\nTeam Fortress 2,2007,First-Person Shooter,769120.02,438928.41,0.570689097392108,1459,206\\r\\nTower Tag,2020,First-Person Shooter,5170.41,0.0,0.0,25,5\\r\\nUncharted 4: A Thief\\'s End,2016,First-Person Shooter,46235.07,46235.07,1.0,5,1\\r\\nUnreal Tournament,1999,First-Person Shooter,89000.0,89000.0,1.0,14,5\\r\\nUnreal Tournament (2016),2016,First-Person Shooter,5084.97,0.0,0.0,82,8\\r\\nUnreal Tournament 2003,2002,First-Person Shooter,147473.91,147473.91,1.0,33,14\\r\\nUnreal Tournament 2004,2004,First-Person Shooter,152421.78,151871.78,0.996391591805318,54,14\\r\\nUnreal Tournament 3,2007,First-Person Shooter,104977.82,104977.82,1.0,7,4\\r\\nVail VR,2022,First-Person Shooter,0.0,0.0,0.0,0,0\\r\\nVAIL VR,2022,First-Person Shooter,36000.0,35000.0,0.972222222222222,30,2\\r\\nVALORANT,2020,First-Person Shooter,23848666.21,12612230.78,0.528844282902142,6491,1134\\r\\nWarface,2013,First-Person Shooter,109555.0,109555.0,1.0,32,2\\r\\nWarsow,2012,First-Person Shooter,183.0,0.0,0.0,2,1\\r\\nWolfenstein: Enemy Territory,2003,First-Person Shooter,140963.24,138376.87,0.981652166905358,152,18\\r\\nX8,2023,First-Person Shooter,0.0,0.0,0.0,0,0\\r\\nXonotic,2010,First-Person Shooter,14935.01,26.07,0.001745562942375,96,44\\r\\nZombieland VR: Headshot Fever,2021,First-Person Shooter,10000.0,0.0,0.0,4,1\\r\\nZula,2015,First-Person Shooter,162500.0,160000.0,0.984615384615385,38,3\\r\\nArena of Valor,2015,Multiplayer Online Battle Arena,77920901.06,73831635.3,0.947520296809052,1986,156\\r\\nBattlerite,2016,Multiplayer Online Battle Arena,65227.95,28000.0,0.429263835518363,88,76\\r\\nBlankos Block Party,2020,Multiplayer Online Battle Arena,250.0,0.0,0.0,3,1\\r\\nBloodline Champions,2011,Multiplayer Online Battle Arena,41905.32,40850.0,0.974816562670324,43,12\\r\\nCrab Game,2021,Multiplayer Online Battle Arena,45950.0,44000.0,0.957562568008705,32,11\\r\\nCreative Destruction,2018,Multiplayer Online Battle Arena,100000.0,0.0,0.0,8,1\\r\\nDefense of the Ancients,2003,Multiplayer Online Battle Arena,857420.65,829658.68,0.967621528592763,468,94\\r\\nDofus,2004,Multiplayer Online Battle Arena,0.0,0.0,0.0,0,0\\r\\nDota 2,2013,Multiplayer Online Battle Arena,337107974.16,298290573.89,0.884851729281324,4784,1841\\r\\nDream Three Kingdoms 2,2015,Multiplayer Online Battle Arena,0.0,0.0,0.0,0,1\\r\\nHeavy Metal Machines,2017,Multiplayer Online Battle Arena,12339.33,0.0,0.0,35,1\\r\\nHeroes of Newerth,2010,Multiplayer Online Battle Arena,3073445.72,1722436.17,0.560425114649495,820,395\\r\\nHeroes of the Storm,2015,Multiplayer Online Battle Arena,18451461.38,14254535.64,0.77254236650604,1322,500\\r\\nHyper Scape,2020,Multiplayer Online Battle Arena,299000.0,0.0,0.0,260,4\\r\\nLeague of Legends,2009,Multiplayer Online Battle Arena,105011055.56,90815673.41,0.864820117517158,9211,2895\\r\\nLeague of Legends: Wild Rift,2021,Multiplayer Online Battle Arena,9480421.08,6930081.25,0.730988760047776,1428,107\\r\\nLegend of Glory,2015,Multiplayer Online Battle Arena,472.66,0.0,0.0,0,1\\r\\nMinecraft,2011,Multiplayer Online Battle Arena,2027733.15,109650.0,0.0540751627007725,543,102\\r\\nMOBA Legends,2016,Multiplayer Online Battle Arena,225.0,0.0,0.0,3,1\\r\\nMobile Legends: Bang Bang,2016,Multiplayer Online Battle Arena,10389383.85,8786159.58,0.845686299289057,1745,116\\r\\nOnmyoji Arena,2018,Multiplayer Online Battle Arena,89679.22,89679.22,1.0,5,1\\r\\nPokemon Unite,2021,Multiplayer Online Battle Arena,1350500.0,1045500.0,0.774157719363199,330,15\\r\\nRoblox,2006,Multiplayer Online Battle Arena,0.0,0.0,0.0,0,0\\r\\nShards of War,2015,Multiplayer Online Battle Arena,1029.21,0.0,0.0,20,1\\r\\nSMITE,2014,Multiplayer Online Battle Arena,9250112.75,7872832.57,0.851106660294492,542,97\\r\\nSplitgate: Arena Warfare,2019,Multiplayer Online Battle Arena,50000.0,0.0,0.0,64,2\\r\\nTeeworlds,2007,Multiplayer Online Battle Arena,0.0,0.0,0.0,0,0\\r\\nVainglory,2014,Multiplayer Online Battle Arena,937421.19,836825.87,0.892689304367016,262,36\\r\\nBlade & Soul,2012,Role-Playing Game,679006.26,679006.26,1.0,89,7\\r\\nCave Digger 2,2021,Role-Playing Game,750.0,0.0,0.0,4,1\\r\\nChivalry 2,2021,Role-Playing Game,0.0,0.0,0.0,0,0\\r\\nGuild Wars 2,2012,Role-Playing Game,476005.5,350000.0,0.735285621699749,152,57\\r\\nNaraka: Bladepoint,2021,Role-Playing Game,2908130.52,2473700.0,0.85061519178307,138,12\\r\\nOld School Runescape,2013,Role-Playing Game,457504.2,28500.0,0.0622945100831861,84,26\\r\\nRed Stone,2004,Role-Playing Game,58000.0,58000.0,1.0,12,2\\r\\nStardew Valley,2016,Role-Playing Game,97850.0,0.0,0.0,69,3\\r\\nWorld of WarCraft,2004,Role-Playing Game,8070537.61,5081388.91,0.629622108904341,487,202\\r\\nAcceleration of SUGURI 2,2018,Fighting Game,410.0,210.0,0.51219512195122,8,3\\r\\nAkatsuki Blitzkampf,2007,Fighting Game,20.0,0.0,0.0,3,1\\r\\nAquapazza: Aquaplus Dream Match,2011,Fighting Game,245.0,245.0,1.0,5,2\\r\\nArcana Heart 3,2009,Fighting Game,1000.0,1000.0,1.0,4,1\\r\\nArcana Heart 3: Love Max Six Stars!!!!!,2014,Fighting Game,570.0,520.0,0.912280701754386,8,4\\r\\nArcana Heart 3: LOVE MAX!!!!!,2013,Fighting Game,410.0,410.0,1.0,6,2\\r\\nARMS,2017,Fighting Game,22559.9,13672.93,0.606072278689179,130,112\\r\\nAsuka 120% LimitOver BURNING Fest.,1998,Fighting Game,10.0,0.0,0.0,3,1\\r\\nAttack on Titan Tribute Game,2013,Fighting Game,108650.0,0.0,0.0,21,15\\r\\nBlazBlue: Calamity Trigger,2008,Fighting Game,35.0,35.0,1.0,3,1\\r\\nBlazBlue: Central Fiction,2015,Fighting Game,89603.21,89306.37,0.99668717225644,114,50\\r\\nBlazBlue: Chronophantasma,2012,Fighting Game,37020.58,37020.58,1.0,63,15\\r\\nBlazBlue: Chronophantasma Extend,2015,Fighting Game,4918.77,4918.77,1.0,28,11\\r\\nBlazBlue: Continuum Shift Extend,2011,Fighting Game,0.0,0.0,0.0,3,1\\r\\nBlazBlue: Continuum Shift II,2010,Fighting Game,24591.01,24591.01,1.0,14,5\\r\\nBlazBlue: Cross Tag Battle,2018,Fighting Game,97872.7,95624.31,0.977027403964538,128,42\\r\\nBrawlhalla,2015,Fighting Game,3616487.83,844264.04,0.233448605300574,850,666\\r\\nBrawlout,2017,Fighting Game,0.0,0.0,0.0,0,0\\r\\nBreakers Revenge,1998,Fighting Game,16.0,0.0,0.0,3,1\\r\\nCapcom vs. SNK,2000,Fighting Game,140.0,140.0,1.0,6,2\\r\\nCapcom vs. SNK 2,2001,Fighting Game,24976.79,24976.79,1.0,38,22\\r\\nChaos Code: New Sign of Catastrophe,2013,Fighting Game,140.0,140.0,1.0,3,1\\r\\nDead or Alive 4,2005,Fighting Game,497745.31,497745.31,1.0,45,13\\r\\nDead or Alive 5,2012,Fighting Game,0.0,0.0,0.0,4,2\\r\\nDead or Alive 5 Ultimate,2013,Fighting Game,0.0,0.0,0.0,37,7\\r\\nDead or Alive 5: Last Round,2015,Fighting Game,15413.82,15413.82,1.0,46,20\\r\\nDead or Alive 6,2019,Fighting Game,64742.54,63632.54,0.982855167560618,67,21\\r\\nDead or Alive Ultimate,2004,Fighting Game,30000.0,30000.0,1.0,3,1\\r\\nDef Jam: Fight for NY,2004,Fighting Game,550.0,360.0,0.654545454545455,6,3\\r\\nDengeki Bunko: Fighting Climax,2014,Fighting Game,60.0,60.0,1.0,3,1\\r\\nDengeki Bunko: Fighting Climax Ignition,2015,Fighting Game,3852.8,3667.3,0.951853197674419,40,14\\r\\nDigimon Rumble Arena,2001,Fighting Game,200.0,0.0,0.0,5,2\\r\\nDivekick,2013,Fighting Game,5840.0,5840.0,1.0,27,11\\r\\nDNF Duel,2022,Fighting Game,128595.48,127595.48,0.992223676913061,50,12\\r\\nDragon Ball FighterZ,2018,Fighting Game,493043.45,470146.95,0.953560887990703,271,168\\r\\nDragon Ball Z: Budokai 3,2004,Fighting Game,204.06,204.06,1.0,3,1\\r\\nDuck Game,2014,Fighting Game,750.0,0.0,0.0,5,2\\r\\nEternal Fighter Zero,2000,Fighting Game,1311.6,0.0,0.0,7,2\\r\\nFantasy Strike,2019,Fighting Game,5799.8,2610.0,0.450015517776475,21,5\\r\\nFight of Animals,2019,Fighting Game,630.68,0.0,0.0,9,4\\r\\nFighter\\'s History Dynamite,1994,Fighting Game,195.0,195.0,1.0,3,1\\r\\nFighting EX Layer,2018,Fighting Game,1642.96,1632.96,0.993913424550811,16,7\\r\\nGarou: Mark of the Wolves,1999,Fighting Game,658.71,513.71,0.779872781648981,13,4\\r\\nGranblue Fantasy: Versus,2020,Fighting Game,186825.88,152754.77,0.81763174352504,118,84\\r\\nGuilty Gear,1998,Fighting Game,32.0,32.0,1.0,3,1\\r\\nGuilty Gear -STRIVE-,2021,Fighting Game,430875.29,348617.16,0.809090630377063,246,83\\r\\nGuilty Gear Xrd -REVELATOR-,2016,Fighting Game,36437.43,36437.43,1.0,61,19\\r\\nGuilty Gear Xrd -SIGN-,2014,Fighting Game,37445.66,37445.66,1.0,80,38\\r\\nGuilty Gear Xrd REV 2,2017,Fighting Game,126399.3,126204.3,0.998457269937413,126,61\\r\\nGuilty Gear XX,2002,Fighting Game,0.0,0.0,0.0,5,2\\r\\nGuilty Gear XX #Reload,2003,Fighting Game,0.0,0.0,0.0,3,1\\r\\nGuilty Gear XX Accent Core,2007,Fighting Game,10365.0,10365.0,1.0,33,4\\r\\nGuilty Gear XX Accent Core Plus,2008,Fighting Game,0.0,0.0,0.0,3,1\\r\\nGuilty Gear XX Accent Core Plus R,2012,Fighting Game,14702.14,6430.0,0.437351297158101,82,30\\r\\nGuilty Gear XX Slash,2005,Fighting Game,10250.0,10250.0,1.0,6,2\\r\\nHokuto no Ken,2005,Fighting Game,145.0,145.0,1.0,3,1\\r\\nHyper Street Fighter II,2003,Fighting Game,10250.0,10250.0,1.0,8,1\\r\\nHYPERFIGHT,2019,Fighting Game,140.0,0.0,0.0,4,2\\r\\nInjustice 2,2017,Fighting Game,837447.16,836014.57,0.99828933684604,81,38\\r\\nInjustice: Gods Among Us,2013,Fighting Game,35176.89,35176.89,1.0,101,117\\r\\nJoJo\\'s Bizarre Adventure: All Star Battle R,2022,Fighting Game,780.0,780.0,1.0,8,1\\r\\nJoJo\\'s Bizarre Adventure: Heritage for the Future,1999,Fighting Game,324.99,0.0,0.0,8,3\\r\\nKill la Kill the Game: IF,2019,Fighting Game,920.0,770.0,0.83695652173913,12,4\\r\\nKiller Instinct (2013),2013,Fighting Game,226323.54,226253.54,0.999690708266582,132,57\\r\\nKing of Fighters 2002 Unlimited Match,2009,Fighting Game,760.0,760.0,1.0,6,2\\r\\nKing of Fighters 98,1998,Fighting Game,7945.57,7945.57,1.0,7,3\\r\\nKing of Fighters XI,2005,Fighting Game,25.0,25.0,1.0,3,1\\r\\nKing of Fighters XIII,2010,Fighting Game,45444.28,45444.28,1.0,106,43\\r\\nKing of Fighters XIV,2016,Fighting Game,74402.09,73542.09,0.988441184918327,89,39\\r\\nKing of Fighters XV,2022,Fighting Game,107769.51,81086.09,0.752402882781967,142,31\\r\\nKirby Fighters 2,2020,Fighting Game,222.86,0.0,0.0,4,1\\r\\nKoihime Enbu,2016,Fighting Game,1765.0,1615.0,0.915014164305949,14,7\\r\\nLethal League Blaze,2018,Fighting Game,5643.92,1677.75,0.297266793292605,25,12\\r\\nMaiden & Spell,2020,Fighting Game,325.0,0.0,0.0,5,2\\r\\nMarvel vs. Capcom 2,2000,Fighting Game,39279.73,39269.73,0.999745415765332,68,29\\r\\nMarvel vs. Capcom 3,2011,Fighting Game,22343.62,22343.62,1.0,38,12\\r\\nMarvel vs. Capcom: Infinite,2017,Fighting Game,76256.72,76202.12,0.999283997528349,60,22\\r\\nMelty Blood: Actress Again,2009,Fighting Game,0.0,0.0,0.0,10,2\\r\\nMelty Blood: Actress Again Current Code,2010,Fighting Game,11429.93,8665.0,0.758097381173813,68,24\\r\\nMelty Blood: Type Lumina,2021,Fighting Game,37842.49,37842.49,1.0,48,12\\r\\nMighty Fight Federation,2021,Fighting Game,100.0,0.0,0.0,3,1\\r\\nMillion Arthur: Arcana Blood,2017,Fighting Game,7540.0,7530.0,0.99867374005305,12,4\\r\\nMordhau,2019,Fighting Game,16623.0,0.0,0.0,40,3\\r\\nMortal Kombat 11,2019,Fighting Game,601390.54,519128.34,0.863213345524191,233,61\\r\\nMortal Kombat 9,2011,Fighting Game,136891.67,136891.67,1.0,67,26\\r\\nMortal Kombat vs. DC Universe,2008,Fighting Game,0.0,0.0,0.0,3,1\\r\\nMortal Kombat X,2015,Fighting Game,563532.42,563532.42,1.0,100,62\\r\\nMortal Kombat XL,2016,Fighting Game,134203.79,129203.79,0.962743228041473,55,18\\r\\nMultiVersus,2022,Fighting Game,114202.5,100151.5,0.8769641645323,59,10\\r\\nMystery Game Tournament,2019,Fighting Game,10995.0,10995.0,1.0,56,8\\r\\nNaruto Shippuden: Ultimate Ninja Storm 4,2016,Fighting Game,4550.0,2000.0,0.43956043956044,7,5\\r\\nNaruto: Gekitou Ninja Taisen! 4,2005,Fighting Game,200.0,0.0,0.0,3,1\\r\\nNinja Legends,2019,Fighting Game,1000.0,0.0,0.0,6,1\\r\\nNitroplus Blasterz: Heroines Infinite Duel,2015,Fighting Game,1994.0,1994.0,1.0,10,4\\r\\nPersona 4 Arena,2012,Fighting Game,6336.63,6336.63,1.0,42,11\\r\\nPersona 4 Arena Ultimax,2013,Fighting Game,20268.16,20268.16,1.0,64,21\\r\\nPocket Bravery,2022,Fighting Game,452.35,452.35,1.0,3,1\\r\\nPocket Rumble,2016,Fighting Game,185.0,0.0,0.0,5,2\\r\\nPokkén Tournament,2016,Fighting Game,77216.66,76971.66,0.996827109590081,65,26\\r\\nPokkén Tournament DX,2017,Fighting Game,22125.4,21914.0,0.990445370479178,44,28\\r\\nPower Instinct: Matrimelee,2002,Fighting Game,90.0,0.0,0.0,5,2\\r\\nPower Rangers: Battle for the Grid,2019,Fighting Game,6746.8,3086.2,0.457431671310844,26,12\\r\\nPower Rangers: Legacy Wars,2017,Fighting Game,4178.55,4178.55,1.0,2,1\\r\\nProject Justice,2000,Fighting Game,165.0,165.0,1.0,3,1\\r\\nProject M,2010,Fighting Game,205292.09,205292.09,1.0,560,335\\r\\nProject Plus,2019,Fighting Game,195.0,0.0,0.0,6,2\\r\\nPunch Planet,2017,Fighting Game,400.0,0.0,0.0,6,2\\r\\nRed Earth,1996,Fighting Game,100.0,0.0,0.0,3,1\\r\\nRising Thunder,2015,Fighting Game,1000.0,1000.0,1.0,3,1\\r\\nRivals of Aether,2015,Fighting Game,41314.85,38783.23,0.938723727666929,63,24\\r\\nRoof Rage,2019,Fighting Game,50.0,0.0,0.0,3,1\\r\\nRushdown Revolt,2021,Fighting Game,4160.09,0.0,0.0,31,18\\r\\nSailor Moon S,1995,Fighting Game,3281.19,3271.19,0.996952325223471,20,12\\r\\nSamurai Shodown (2019),2019,Fighting Game,77983.31,77858.31,0.99839709291642,75,20\\r\\nSamurai Shodown III,1995,Fighting Game,70.0,0.0,0.0,5,2\\r\\nSamurai Shodown V Special,2004,Fighting Game,590.57,490.11,0.82989315407149,15,5\\r\\nSchwarzerblitz,2020,Fighting Game,200.0,0.0,0.0,5,2\\r\\nSekiro: Shadows Die Twice,2019,Fighting Game,19596.0,0.0,0.0,20,1\\r\\nShovel Knight Showdown,2019,Fighting Game,60.0,60.0,1.0,3,1\\r\\nShrek SuperSlam,2005,Fighting Game,80.0,0.0,0.0,4,2\\r\\nSkullgirls,2012,Fighting Game,300.0,300.0,1.0,3,1\\r\\nSkullgirls 2nd Encore,2015,Fighting Game,60123.02,26561.0,0.441777542112821,77,25\\r\\nSkullgirls Encore,2014,Fighting Game,9155.4,9155.4,1.0,37,13\\r\\nSlap City,2018,Fighting Game,600.0,0.0,0.0,5,2\\r\\nSLAYERS FOR HIRE,2020,Fighting Game,600.0,0.0,0.0,8,2\\r\\nSmash Remix,2019,Fighting Game,299.06,0.0,0.0,4,1\\r\\nSNK Heroines: Tag Team Frenzy,2018,Fighting Game,430.0,430.0,1.0,3,1\\r\\nSoul Calibur II,2003,Fighting Game,4980.0,4980.0,1.0,17,8\\r\\nSoul Calibur II HD Online,2013,Fighting Game,945.41,945.41,1.0,29,5\\r\\nSoul Calibur IV,2008,Fighting Game,260.0,260.0,1.0,3,2\\r\\nSoul Calibur V,2012,Fighting Game,60428.54,60428.54,1.0,73,27\\r\\nSoul Calibur VI,2018,Fighting Game,176687.27,159013.28,0.899970212907812,127,71\\r\\nStick Fight the Game,2017,Fighting Game,0.0,0.0,0.0,0,0\\r\\nStreet Fighter 6,2023,Fighting Game,1239029.58,1181764.93,0.95378266110483,125,32\\r\\nStreet Fighter Alpha 2,1996,Fighting Game,2944.69,1830.0,0.621457606742985,24,11\\r\\nStreet Fighter Alpha 3,1998,Fighting Game,340.0,340.0,1.0,16,5\\r\\nStreet Fighter EX2 Plus,1999,Fighting Game,350.0,350.0,1.0,5,2\\r\\nStreet Fighter III: 3rd Strike,1999,Fighting Game,54341.18,52643.96,0.968767332619571,108,45\\r\\nStreet Fighter IV,2009,Fighting Game,7938.22,7938.22,1.0,41,12\\r\\nStreet Fighter V,2016,Fighting Game,2264656.94,2216156.94,0.978583952764166,279,129\\r\\nStreet Fighter V: Arcade Edition,2018,Fighting Game,2275283.95,2274433.95,0.999626420254052,235,105\\r\\nStreet Fighter V: Champion Edition,2020,Fighting Game,1205026.67,664544.21,0.551476765240391,271,153\\r\\nStreet Fighter X Tekken,2012,Fighting Game,84090.64,83229.34,0.989757480737452,115,93\\r\\nSuper Smash Bros.,1999,Fighting Game,76319.05,76179.05,0.998165595614725,239,128\\r\\nSuper Smash Bros. Brawl,2008,Fighting Game,248100.83,248100.83,1.0,509,348\\r\\nSuper Smash Bros. for Wii U,2014,Fighting Game,1515451.47,1512816.47,0.998261244221829,1280,1035\\r\\nSuper Smash Bros. Melee,2001,Fighting Game,4061572.65,3897001.87,0.959481020239783,1963,2695\\r\\nSuper Smash Bros. Ultimate,2018,Fighting Game,2618239.67,2234204.79,0.853323252107016,2361,1691\\r\\nSuper Street Fighter II Turbo,1994,Fighting Game,25646.29,25646.29,1.0,114,51\\r\\nSuper Street Fighter II Turbo HD Remix,2008,Fighting Game,16360.0,16360.0,1.0,29,8\\r\\nSuper Street Fighter IV,2010,Fighting Game,30229.3,20877.3,0.690631274955093,43,18\\r\\nSuper Street Fighter IV Arcade Edition,2010,Fighting Game,355586.67,355586.67,1.0,154,204\\r\\nTatsunoko vs. Capcom: Ultimate All-Stars,2010,Fighting Game,2771.76,1330.81,0.480131757439316,16,16\\r\\nTeenage Mutant Ninja Turtles: Tournament Fighters,1993,Fighting Game,820.0,820.0,1.0,7,2\\r\\nTekken 4,2001,Fighting Game,12500.0,12500.0,1.0,4,4\\r\\nTekken 5,2004,Fighting Game,10250.0,10250.0,1.0,10,9\\r\\nTekken 5: Dark Resurrection,2006,Fighting Game,12180.0,12180.0,1.0,18,5\\r\\nTekken 6,2007,Fighting Game,119874.64,119874.64,1.0,61,29\\r\\nTekken 7,2015,Fighting Game,3671101.73,3408250.62,0.928399938402143,596,400\\r\\nTekken Tag Tournament,1999,Fighting Game,0.0,0.0,0.0,7,4\\r\\nTekken Tag Tournament 2,2011,Fighting Game,118501.3,118501.3,1.0,151,140\\r\\nThe Last Blade 2,1998,Fighting Game,60.0,0.0,0.0,4,2\\r\\nThe Unspoken,2018,Fighting Game,38824.08,38824.08,1.0,7,4\\r\\nThem\\'s Fightin\\' Herds,2018,Fighting Game,4578.19,530.0,0.115766274444704,28,29\\r\\nToribash,2006,Fighting Game,100.0,0.0,0.0,3,1\\r\\nTough Love Arena,2021,Fighting Game,100.0,0.0,0.0,3,1\\r\\nTouhou Hisoutensoku ~ Choudokyuu Ginyoru no Nazo o Oe,2009,Fighting Game,4501.52,220.0,0.0488723808846789,18,6\\r\\nTowerFall: Ascension,2013,Fighting Game,0.0,0.0,0.0,0,0\\r\\nUltimate Marvel vs. Capcom 3,2011,Fighting Game,174179.59,172052.24,0.98778645649585,209,187\\r\\nUltimate Mortal Kombat 3,1995,Fighting Game,150.0,150.0,1.0,6,2\\r\\nUltra Fight Da! Kyanta 2,2019,Fighting Game,320.0,320.0,1.0,3,1\\r\\nUltra Street Fighter IV,2014,Fighting Game,818394.62,818354.62,0.99995112382337,242,233\\r\\nUmineko: Golden Fantasia,2010,Fighting Game,190.0,90.0,0.473684210526316,9,3\\r\\nUnder Night In-Birth EXE: Late,2014,Fighting Game,6025.76,6025.76,1.0,52,23\\r\\nUnder Night In-Birth EXE: Late[st],2015,Fighting Game,54583.33,54583.33,1.0,109,40\\r\\nUnder Night In-Birth Exe:Late[cl-r],2020,Fighting Game,6337.01,5707.25,0.900621902127344,38,9\\r\\nVampire Savior,1997,Fighting Game,16642.38,15495.17,0.931066950760648,37,22\\r\\nVirtua Fighter 4: Evolution,2002,Fighting Game,0.0,0.0,0.0,6,3\\r\\nVirtua Fighter 5,2007,Fighting Game,39830.0,39830.0,1.0,14,7\\r\\nVirtua Fighter 5 Final Showdown,2010,Fighting Game,573.77,573.77,1.0,28,6\\r\\nVirtua Fighter 5: Ultimate Showdown,2021,Fighting Game,1870.0,870.0,0.46524064171123,14,3\\r\\nWindjammers 2,2022,Fighting Game,1056.07,1056.07,1.0,3,56\\r\\nWWE 2K20,2019,Fighting Game,50000.0,0.0,0.0,20,2\\r\\nAsphalt 4,2008,Racing,29500.0,29500.0,1.0,5,2\\r\\nAsphalt 9: Legends,2018,Racing,51520.0,51520.0,1.0,5,2\\r\\nAssetto Corsa,2014,Racing,964348.2,656130.85,0.680387903456449,298,129\\r\\nAssetto Corsa Competizione,2018,Racing,535914.8,340767.5,0.63586133467484,470,55\\r\\nDirt Rally 2.0,2019,Racing,30000.0,10000.0,0.333333333333333,9,4\\r\\nEpic Roller Coasters VR,2018,Racing,1000.0,0.0,0.0,3,1\\r\\nF1 2018,2018,Racing,200000.0,200000.0,1.0,21,1\\r\\nF1 2019,2019,Racing,538047.38,538047.38,1.0,25,2\\r\\nF1 2020,2020,Racing,752235.0,0.0,0.0,42,3\\r\\nF1 2021,2021,Racing,765939.0,0.0,0.0,35,4\\r\\nF1 22,2022,Racing,750324.0,0.0,0.0,25,2\\r\\nForza Horizon 5,2021,Racing,25000.0,500.0,0.02,24,11\\r\\nForza Motorsport 2,2007,Racing,222000.0,222000.0,1.0,17,2\\r\\nForza Motorsport 3,2009,Racing,11000.0,11000.0,1.0,3,2\\r\\nForza Motorsport 4,2011,Racing,132.37,132.37,1.0,2,1\\r\\nForza Motorsport 6,2015,Racing,172600.0,170200.0,0.986095017381228,43,9\\r\\nForza Motorsport 7,2017,Racing,820200.0,616200.0,0.751280175566935,123,12\\r\\nGran Turismo 3: A-Spec,2001,Racing,3250.0,3250.0,1.0,4,2\\r\\nGran Turismo 4,2004,Racing,44000.0,44000.0,1.0,5,2\\r\\nGran Turismo Sport,2017,Racing,61522.56,27511.0,0.447169298546744,126,25\\r\\nGRID (2019),2019,Racing,218.75,218.75,1.0,3,1\\r\\nHot Lap League,2021,Racing,0.0,0.0,0.0,0,0\\r\\niRacing.com,2008,Racing,3531694.03,939017.1,0.265882913985049,1283,185\\r\\nJak 3,2004,Racing,0.0,0.0,0.0,0,0\\r\\nJak and Daxter: The Precursur Legacy,2001,Racing,500.0,0.0,0.0,4,1\\r\\nJak II,2003,Racing,0.0,0.0,0.0,14,1\\r\\nKartRider,2004,Racing,567366.35,567366.35,1.0,76,20\\r\\nLive for Speed,2003,Racing,11833.14,9219.14,0.779094982396895,24,10\\r\\nMad Skills Motocross 2,2017,Racing,80163.0,80163.0,1.0,23,3\\r\\nMarbles on Stream,2018,Racing,0.0,0.0,0.0,0,0\\r\\nMario Kart 8 Deluxe,2017,Racing,5004.44,5004.44,1.0,48,9\\r\\nNASCAR Heat 4,2019,Racing,200500.0,0.0,0.0,34,5\\r\\nNascar Heat 5,2020,Racing,6125.0,2500.0,0.408163265306122,20,2\\r\\nNASCAR Thunder 2002,2001,Racing,7679.25,7679.25,1.0,0,1\\r\\nNASCAR Thunder 2003,2002,Racing,5933.5,5933.5,1.0,0,1\\r\\nNeed for Speed Carbon,2006,Racing,36322.58,36322.58,1.0,12,4\\r\\nNeed for Speed: Most Wanted,2005,Racing,35694.54,35694.54,1.0,18,7\\r\\nNeed for Speed: ProStreet,2007,Racing,32208.46,32208.46,1.0,12,3\\r\\nNeed for Speed: Shift,2009,Racing,10500.0,10500.0,1.0,3,1\\r\\nNeed for Speed: Underground,2003,Racing,35000.0,35000.0,1.0,3,1\\r\\nNeed for Speed: Underground 2,2004,Racing,35629.48,35629.48,1.0,8,3\\r\\nProject Cars,2015,Racing,68955.21,10602.71,0.153762275540891,53,127\\r\\nProject Cars 2,2017,Racing,66150.0,58150.0,0.879062736205593,37,22\\r\\nProject Gotham Racing 2,2003,Racing,35000.0,35000.0,1.0,4,2\\r\\nProject Gotham Racing 3,2005,Racing,297286.85,297286.85,1.0,33,10\\r\\nProject Gotham Racing 4,2007,Racing,25208.46,25208.46,1.0,5,4\\r\\nRaceRoom Racing Experience,2013,Racing,277591.2,82583.7,0.297501145569456,159,27\\r\\nRennsport,2022,Racing,1385700.0,1385700.0,1.0,46,4\\r\\nrFactor,2005,Racing,15083.56,0.0,0.0,51,4\\r\\nrFactor 2,2013,Racing,2209263.12,1441696.94,0.65256914260172,555,102\\r\\nSpeedrunners,2016,Racing,150.0,0.0,0.0,5,2\\r\\nSprint Vector,2018,Racing,11750.0,11750.0,1.0,8,1\\r\\nTrackmania (2020),2020,Racing,571463.36,145868.67,0.255254632597967,732,622\\r\\nTrackMania 2: Canyon,2011,Racing,23514.91,17975.21,0.764417554649369,25,38\\r\\nTrackMania 2: Stadium,2013,Racing,200563.87,109371.91,0.545322096148225,345,286\\r\\nTrackmania 2: Valley,2013,Racing,779.34,779.34,1.0,6,2\\r\\nTrackMania Nations,2006,Racing,112883.55,68474.97,0.60659830418161,43,18\\r\\nTrackMania Nations Forever,2008,Racing,197070.19,169688.91,0.86105823513947,140,85\\r\\nTrackmania Turbo,2016,Racing,679.41,0.0,0.0,6,2\\r\\nTrackmania United,2006,Racing,1027.5,1027.5,1.0,3,1\\r\\nTrackmania United Forever,2008,Racing,2540.18,0.0,0.0,13,1\\r\\nTrials Fusion,2014,Racing,0.0,0.0,0.0,0,0\\r\\nTurbo Racing League,2013,Racing,1000000.0,500000.0,0.5,16,9\\r\\nVoid Racer,2020,Racing,460.0,0.0,0.0,4,1\\r\\nWRC 10 FIA World Rally Championship,2021,Racing,25250.0,25250.0,1.0,1,1\\r\\nCarom 3D,1999,Sports,60500.0,60500.0,1.0,11,4\\r\\nDream league Soccer,2019,Sports,0.0,0.0,0.0,0,0\\r\\nEA Sports FC Online,2023,Sports,0.0,0.0,0.0,3,1\\r\\nEcho Arena,2017,Sports,193732.32,169362.32,0.874207876104514,126,22\\r\\neFootball,2021,Sports,492000.0,25000.0,0.0508130081300813,62,14\\r\\nEleven Table Tennis,2016,Sports,0.0,0.0,0.0,0,0\\r\\nFIFA 03,2002,Sports,54066.44,54066.44,1.0,10,3\\r\\nFIFA 04,2003,Sports,40000.0,40000.0,1.0,3,3\\r\\nFIFA 05,2004,Sports,57728.01,57728.01,1.0,5,8\\r\\nFIFA 06,2005,Sports,112464.53,112464.53,1.0,23,12\\r\\nFIFA 07,2006,Sports,238312.23,238312.23,1.0,43,14\\r\\nFIFA 08,2007,Sports,207129.94,207129.94,1.0,68,17\\r\\nFIFA 09,2008,Sports,121618.34,115321.42,0.948223927410948,52,19\\r\\nFIFA 10,2009,Sports,117026.71,90147.21,0.77031311911614,64,48\\r\\nFIFA 11,2010,Sports,93983.77,85154.02,0.906050268040961,72,78\\r\\nFIFA 12,2011,Sports,57931.52,50779.42,0.876542165646612,59,67\\r\\nFIFA 13,2012,Sports,458427.82,448195.59,0.977679735928766,53,62\\r\\nFIFA 14,2013,Sports,96347.81,87377.48,0.906896378859052,57,69\\r\\nFIFA 15,2014,Sports,144373.99,116439.15,0.806510577147587,167,352\\r\\nFIFA 16,2015,Sports,118401.61,117457.44,0.992025699650537,62,29\\r\\nFIFA 17,2016,Sports,1482612.63,1482612.63,1.0,135,48\\r\\nFIFA 18,2017,Sports,2233697.69,2221267.08,0.994434963130575,235,48\\r\\nFIFA 19,2018,Sports,3321246.79,3244403.28,0.976863053287287,331,53\\r\\nFIFA 20,2019,Sports,2618139.7,1141158.77,0.435866264126395,360,66\\r\\nFIFA 2000,1999,Sports,50000.0,50000.0,1.0,4,1\\r\\nFIFA 2001,2000,Sports,46000.0,46000.0,1.0,9,2\\r\\nFIFA 2002 World Cup,2002,Sports,43000.0,43000.0,1.0,8,1\\r\\nFIFA 21,2020,Sports,3181837.29,260433.91,0.0818501658832467,350,45\\r\\nFIFA 22,2021,Sports,3173958.53,2473982.53,0.779462777038867,374,65\\r\\nFIFA 23,2022,Sports,6187253.33,5087650.94,0.822279397439833,522,95\\r\\nFIFA Online 3,2012,Sports,1937542.85,1937542.85,1.0,124,25\\r\\nFIFA Online 4,2018,Sports,4049185.91,2479725.66,0.612401039398065,417,66\\r\\nGOLF Plus,2020,Sports,5000.0,5000.0,1.0,4,1\\r\\nGolf With Your Friends,2016,Sports,19400.0,0.0,0.0,11,2\\r\\nGran Turismo 7,2022,Sports,21084.8,0.0,0.0,13,3\\r\\nGroove Gunner,2020,Sports,0.0,0.0,0.0,0,0\\r\\nGym Masters VR,2021,Sports,500.0,0.0,0.0,4,1\\r\\nJust Hoops,2021,Sports,0.0,0.0,0.0,0,0\\r\\nMadden NFL 19,2018,Sports,125000.0,125000.0,1.0,5,3\\r\\nMadden NFL 20,2019,Sports,923000.0,703000.0,0.761646803900325,38,2\\r\\nMadden NFL 2004,2003,Sports,1500.0,1500.0,1.0,3,1\\r\\nMadden NFL 2006,2005,Sports,100000.0,100000.0,1.0,1,1\\r\\nMadden NFL 2007,2006,Sports,100000.0,100000.0,1.0,1,1\\r\\nMadden NFL 2008,2007,Sports,100000.0,100000.0,1.0,1,1\\r\\nMadden NFL 2009,2008,Sports,100000.0,100000.0,1.0,1,1\\r\\nMadden NFL 2013,2012,Sports,400000.0,400000.0,1.0,8,1\\r\\nMadden NFL 2016,2015,Sports,50000.0,50000.0,1.0,8,1\\r\\nMadden NFL 2017,2016,Sports,1004000.0,1004000.0,1.0,42,5\\r\\nMadden NFL 2018,2017,Sports,423676.62,20676.62,0.0488028345769941,40,3\\r\\nMadden NFL 21,2020,Sports,1280000.0,330000.0,0.2578125,66,6\\r\\nMadden NFL 22,2021,Sports,1650000.0,1000000.0,0.606060606060606,37,4\\r\\nMadden NFL 23,2022,Sports,1700000.0,1260000.0,0.741176470588235,38,4\\r\\nMadden NFL 24,2023,Sports,200000.0,200000.0,1.0,32,1\\r\\nMario Tennis Aces,2018,Sports,61.3,0.0,0.0,6,2\\r\\nNBA 2K Online,2012,Sports,0.0,0.0,0.0,0,0\\r\\nNBA 2K Online 2,2018,Sports,0.0,0.0,0.0,0,0\\r\\nNBA 2K18,2017,Sports,1000000.0,1000000.0,1.0,91,4\\r\\nNBA 2K19,2018,Sports,250000.0,250000.0,1.0,1,1\\r\\nNBA 2K20,2019,Sports,250000.0,0.0,0.0,1,1\\r\\nNBA 2K21,2020,Sports,1330501.0,1080000.0,0.811724305355652,64,3\\r\\nNBA 2K22,2021,Sports,2650000.0,2150000.0,0.811320754716981,92,7\\r\\nNBA 2K23,2022,Sports,2925000.0,2425000.0,0.829059829059829,105,9\\r\\nNHL \\'94,1993,Sports,3818.56,3818.56,1.0,16,8\\r\\nNHL 12,2011,Sports,702.93,702.93,1.0,6,2\\r\\nNHL 13,2012,Sports,70000.0,70000.0,1.0,1,1\\r\\nNHL 14,2013,Sports,3023.96,3023.96,1.0,6,3\\r\\nNHL 15,2014,Sports,3157.16,3157.16,1.0,3,3\\r\\nNHL 17,2016,Sports,0.0,0.0,0.0,0,0\\r\\nNHL 18,2017,Sports,102700.0,90000.0,0.876338851022395,20,6\\r\\nNHL 19,2018,Sports,22566.67,19566.67,0.867060580936399,10,8\\r\\nNHL 23,2022,Sports,105250.0,105250.0,1.0,12,4\\r\\nNock,2022,Sports,4050.0,0.0,0.0,12,2\\r\\nPro Evolution Soccer 2008,2007,Sports,2084.15,2084.15,1.0,6,3\\r\\nPro Evolution Soccer 2009,2008,Sports,1395.97,0.0,0.0,5,2\\r\\nPro Evolution Soccer 2013,2012,Sports,0.0,0.0,0.0,0,0\\r\\nPro Evolution Soccer 2014,2013,Sports,29410.25,29410.25,1.0,4,1\\r\\nPro Evolution Soccer 2015,2014,Sports,26544.76,26544.76,1.0,3,1\\r\\nPro Evolution Soccer 2016,2015,Sports,27243.84,27243.84,1.0,17,6\\r\\nPro Evolution Soccer 2017,2016,Sports,514697.71,514697.71,1.0,39,16\\r\\nPro Evolution Soccer 2018,2017,Sports,250000.0,250000.0,1.0,20,3\\r\\nPro Evolution Soccer 2019,2019,Sports,216000.0,216000.0,1.0,25,2\\r\\nPro Evolution Soccer 3,2003,Sports,25000.0,25000.0,1.0,8,2\\r\\nPro Evolution Soccer 4,2004,Sports,40550.64,40550.64,1.0,11,2\\r\\nPro Evolution Soccer 5,2005,Sports,32000.0,32000.0,1.0,4,1\\r\\nPro Evolution Soccer 6,2006,Sports,20216.82,20216.82,1.0,5,2\\r\\nRacket: NX,2018,Sports,500.0,0.0,0.0,3,1\\r\\nRagnaröck,2021,Sports,0.0,0.0,0.0,0,0\\r\\nRezzil Player,2021,Sports,61650.0,0.0,0.0,19,12\\r\\nRocket League,2015,Sports,35177053.26,14958866.7,0.425245019514179,3945,3674\\r\\nRocket League Sideswipe,2021,Sports,38500.0,0.0,0.0,25,3\\r\\nRoller Champions,2022,Sports,0.0,0.0,0.0,0,0\\r\\nSlapshot Rebound,2020,Sports,0.0,0.0,0.0,0,0\\r\\nSoccer Stars,2018,Sports,0.0,0.0,0.0,0,0\\r\\nSuperPlayer,2022,Sports,1000.0,0.0,0.0,3,1\\r\\nSynth Riders,2018,Sports,2100.0,600.0,0.285714285714286,11,7\\r\\nWalkabout Mini Golf,2021,Sports,2000.0,0.0,0.0,7,2\\r\\nZwift,2015,Sports,65370.76,0.0,0.0,10,7\\r\\nArtifact Classic,2018,Collectible Card Game,120494.08,11635.81,0.0965674828174131,284,190\\r\\nArtifact Foundry,2020,Collectible Card Game,1174.5,0.0,0.0,21,12\\r\\nFaeria,2017,Collectible Card Game,4100.0,0.0,0.0,12,5\\r\\nGwent,2016,Collectible Card Game,1504997.17,755391.17,0.501921987002806,344,122\\r\\nHand of the Gods,2017,Collectible Card Game,94434.2,72500.0,0.767730334984571,48,36\\r\\nHearthstone,2014,Collectible Card Game,29531545.82,18275169.29,0.61883551241748,3071,1124\\r\\nHearthstone Battlegrounds,2019,Collectible Card Game,723630.0,320000.0,0.442214944101267,98,10\\r\\n\"KARDS, The World War II Card Game\",2019,Collectible Card Game,0.0,0.0,0.0,0,0\\r\\nLegends of Runeterra,2020,Collectible Card Game,718091.03,0.0,0.0,284,33\\r\\nMagic: The Gathering Arena,2018,Collectible Card Game,9194000.0,4434000.0,0.482271046334566,336,60\\r\\nMagic: The Gathering Online,2002,Collectible Card Game,1818000.0,1218000.0,0.66996699669967,173,16\\r\\nMythgard,2019,Collectible Card Game,3000.0,0.0,0.0,9,3\\r\\nPokémon TCG,1996,Collectible Card Game,0.0,0.0,0.0,0,0\\r\\nShadowverse,2016,Collectible Card Game,5508473.29,5373673.29,0.975528609670357,248,44\\r\\nShardbound,2017,Collectible Card Game,0.0,0.0,0.0,0,0\\r\\nThe Elder Scrolls: Legends,2017,Collectible Card Game,5000.0,5000.0,1.0,3,1\\r\\nYu-Gi-Oh! Duel Links,2016,Collectible Card Game,48746.72,0.0,0.0,328,219\\r\\nCatherine,2011,Puzzle Game,1545.0,1470.0,0.951456310679612,11,7\\r\\nCatherine: Full Body,2019,Puzzle Game,185.0,185.0,1.0,3,1\\r\\nCultris II,2011,Puzzle Game,190.95,0.0,0.0,3,1\\r\\nJstris,2014,Puzzle Game,275.0,0.0,0.0,12,2\\r\\nMagical Drop III,1997,Puzzle Game,130.0,130.0,1.0,3,1\\r\\nMicrosoft Excel,1985,Puzzle Game,3200.0,0.0,0.0,17,8\\r\\nPac-man,1981,Puzzle Game,0.0,0.0,0.0,0,0\\r\\nPanel Attack,2020,Puzzle Game,140.0,0.0,0.0,5,2\\r\\nPuyo Puyo Champions,2019,Puzzle Game,2482.3,2071.8,0.834629174555856,14,5\\r\\nPuyo Puyo Tetris,2014,Puzzle Game,3422.84,1617.75,0.472633836229564,31,16\\r\\nPuyo Puyo Tetris 2,2020,Puzzle Game,896.02,785.85,0.87704515524207,10,2\\r\\nTetr.io,2020,Puzzle Game,5287.88,2034.4,0.384728851638086,27,13\\r\\nTetris,1989,Puzzle Game,65827.99,39645.17,0.602253995602782,98,32\\r\\nTetris Effect: Connected,2020,Puzzle Game,1934.91,1552.88,0.80255929216346,12,3\\r\\nTetris Ultimate,2014,Puzzle Game,221.0,221.0,1.0,3,1\\r\\nTwinkle Star Sprites,1996,Puzzle Game,150.0,0.0,0.0,4,2\\r\\nWise Star 2,2008,Puzzle Game,12000.0,12000.0,1.0,3,1\\r\\nApex Legends,2019,Battle Royale,21042713.01,9268599.25,0.440465982005046,2163,714\\r\\nApex Legends Mobile,2022,Battle Royale,0.0,0.0,0.0,0,0\\r\\nArk: Survival Of The Fittest,2017,Battle Royale,0.0,0.0,0.0,0,0\\r\\nFall Guys,2020,Battle Royale,340273.83,0.0,0.0,250,7\\r\\nFarlight 84,2023,Battle Royale,0.0,0.0,0.0,0,0\\r\\nFortnite,2017,Battle Royale,169935795.99,48728256.19,0.286745096323717,7819,1735\\r\\nFree Fire,2017,Battle Royale,15168032.93,11372968.78,0.74979852908323,1580,86\\r\\nH1Z1,2016,Battle Royale,2067122.0,2067122.0,1.0,119,13\\r\\nPenguin Paradise,2022,Battle Royale,0.0,0.0,0.0,0,0\\r\\nPLAYERUNKNOWN\\'S BATTLEGROUNDS Mobile,2017,Battle Royale,73971090.93,49501367.13,0.669198824941543,3841,284\\r\\nPLAYERUNKNOWN’S BATTLEGROUNDS,2017,Battle Royale,56968205.8,42985882.95,0.754559185186766,3745,593\\r\\nRadical Heights,2018,Battle Royale,120000.0,0.0,0.0,12,2\\r\\nRing of Elysium,2018,Battle Royale,70000.0,0.0,0.0,9,4\\r\\nRocket Arena,2020,Battle Royale,100000.0,0.0,0.0,24,3\\r\\nRules Of Survival,2017,Battle Royale,0.0,0.0,0.0,0,0\\r\\nSpellbreak,2020,Battle Royale,50000.0,0.0,0.0,42,1\\r\\nSuper People,2022,Battle Royale,144526.0,0.0,0.0,95,11\\r\\nGears 5,2019,Third-Person Shooter,2320920.0,680000.0,0.292987263671303,163,112\\r\\nGears of War,2006,Third-Person Shooter,252195.57,252195.57,1.0,33,18\\r\\nGears of War 2,2008,Third-Person Shooter,135000.0,135000.0,1.0,0,5\\r\\nGears of War 3,2011,Third-Person Shooter,7255.81,4555.81,0.627884412629327,13,4\\r\\nGears of War 4,2016,Third-Person Shooter,3142785.0,3055000.0,0.972067767919218,155,152\\r\\nGears of War: Ultimate Edition,2015,Third-Person Shooter,170000.0,170000.0,1.0,39,3\\r\\nKnockout City,2021,Third-Person Shooter,0.0,0.0,0.0,0,0\\r\\nMobile Suit Gundam: Extreme Vs Maxi Boost ON,2016,Third-Person Shooter,420.0,320.0,0.761904761904762,12,2\\r\\nRogue Company,2020,Third-Person Shooter,50000.0,0.0,0.0,48,2\\r\\nThe Division 2,2019,Third-Person Shooter,27250.0,0.0,0.0,40,2\\r\\nAudio Trip,2020,Music / Rhythm Game,650.0,0.0,0.0,4,2\\r\\nBeat Saber,2019,Music / Rhythm Game,16692.06,0.0,0.0,63,11\\r\\nGuitar Hero 5,2009,Music / Rhythm Game,10500.0,10500.0,1.0,3,1\\r\\nGuitar Hero III: Legends of Rock,2007,Music / Rhythm Game,19000.0,19000.0,1.0,8,2\\r\\nGuitar Hero: World Tour,2008,Music / Rhythm Game,0.0,0.0,0.0,0,0\\r\\nJust Dance 2014,2013,Music / Rhythm Game,0.0,0.0,0.0,3,1\\r\\nosu!,2007,Music / Rhythm Game,228205.84,26827.89,0.117560050172248,854,205\\r\\n'"
      ]
     },
     "execution_count": 21,
     "metadata": {},
     "output_type": "execute_result"
    }
   ],
   "source": [
    "general.to_csv(general.to_csv(\"C:\\\\Users\\\\matas\\\\Downloads\\\\esport\\\\GeneralEsportDataclean.csv\", index=False), index=False)\n"
   ]
  },
  {
   "cell_type": "code",
   "execution_count": null,
   "metadata": {},
   "outputs": [],
   "source": []
  },
  {
   "cell_type": "code",
   "execution_count": null,
   "metadata": {},
   "outputs": [],
   "source": []
  },
  {
   "cell_type": "code",
   "execution_count": null,
   "metadata": {},
   "outputs": [],
   "source": []
  },
  {
   "cell_type": "code",
   "execution_count": null,
   "metadata": {},
   "outputs": [],
   "source": []
  },
  {
   "cell_type": "code",
   "execution_count": null,
   "metadata": {},
   "outputs": [],
   "source": []
  }
 ],
 "metadata": {
  "kernelspec": {
   "display_name": "Python 3",
   "language": "python",
   "name": "python3"
  },
  "language_info": {
   "codemirror_mode": {
    "name": "ipython",
    "version": 3
   },
   "file_extension": ".py",
   "mimetype": "text/x-python",
   "name": "python",
   "nbconvert_exporter": "python",
   "pygments_lexer": "ipython3",
   "version": "3.12.0"
  }
 },
 "nbformat": 4,
 "nbformat_minor": 2
}
